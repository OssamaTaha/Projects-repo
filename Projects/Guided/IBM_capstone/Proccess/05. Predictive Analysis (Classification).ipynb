{
    "cells": [
        {
            "cell_type": "markdown",
            "metadata": {},
            "source": [
                "<center>\n",
                "    <img src=\"https://gitlab.com/ibm/skills-network/courses/placeholder101/-/raw/master/labs/module%201/images/IDSNlogo.png\" width=\"300\" alt=\"cognitiveclass.ai logo\"  />\n",
                "</center>\n"
            ]
        },
        {
            "cell_type": "markdown",
            "metadata": {},
            "source": [
                "# **Space X  Falcon 9 First Stage Landing Prediction**\n"
            ]
        },
        {
            "cell_type": "markdown",
            "metadata": {},
            "source": [
                "## Assignment:  Machine Learning Prediction\n"
            ]
        },
        {
            "cell_type": "markdown",
            "metadata": {},
            "source": [
                "Estimated time needed: **60** minutes\n"
            ]
        },
        {
            "cell_type": "markdown",
            "metadata": {},
            "source": [
                "Space X advertises Falcon 9 rocket launches on its website with a cost of 62 million dollars; other providers cost upward of 165 million dollars each, much of the savings is because Space X can reuse the first stage. Therefore if we can determine if the first stage will land, we can determine the cost of a launch. This information can be used if an alternate company wants to bid against space X for a rocket launch.   In this lab, you will create a machine learning pipeline  to predict if the first stage will land given the data from the preceding labs.\n"
            ]
        },
        {
            "cell_type": "markdown",
            "metadata": {},
            "source": [
                "![](https://cf-courses-data.s3.us.cloud-object-storage.appdomain.cloud/IBMDeveloperSkillsNetwork-DS0701EN-SkillsNetwork/api/Images/landing\\_1.gif)\n"
            ]
        },
        {
            "cell_type": "markdown",
            "metadata": {},
            "source": [
                "Several examples of an unsuccessful landing are shown here:\n"
            ]
        },
        {
            "cell_type": "markdown",
            "metadata": {},
            "source": [
                "![](https://cf-courses-data.s3.us.cloud-object-storage.appdomain.cloud/IBMDeveloperSkillsNetwork-DS0701EN-SkillsNetwork/api/Images/crash.gif)\n"
            ]
        },
        {
            "cell_type": "markdown",
            "metadata": {},
            "source": [
                "Most unsuccessful landings are planed. Space X; performs a controlled landing in the oceans.\n"
            ]
        },
        {
            "cell_type": "markdown",
            "metadata": {},
            "source": [
                "## Objectives\n"
            ]
        },
        {
            "cell_type": "markdown",
            "metadata": {},
            "source": [
                "Perform exploratory  Data Analysis and determine Training Labels\n",
                "\n",
                "*   create a column for the class\n",
                "*   Standardize the data\n",
                "*   Split into training data and test data\n",
                "\n",
                "\\-Find best Hyperparameter for SVM, Classification Trees and Logistic Regression\n",
                "\n",
                "*   Find the method performs best using test data\n"
            ]
        },
        {
            "cell_type": "markdown",
            "metadata": {},
            "source": []
        },
        {
            "cell_type": "markdown",
            "metadata": {},
            "source": [
                "***\n"
            ]
        },
        {
            "cell_type": "markdown",
            "metadata": {},
            "source": [
                "## Import Libraries and Define Auxiliary Functions\n"
            ]
        },
        {
            "cell_type": "markdown",
            "metadata": {},
            "source": [
                "We will import the following libraries for the lab\n"
            ]
        },
        {
            "cell_type": "code",
            "execution_count": 1,
            "metadata": {},
            "outputs": [],
            "source": [
                "# Pandas is a software library written for the Python programming language for data manipulation and analysis.\n",
                "import pandas as pd\n",
                "# NumPy is a library for the Python programming language, adding support for large, multi-dimensional arrays and matrices, along with a large collection of high-level mathematical functions to operate on these arrays\n",
                "import numpy as np\n",
                "# Matplotlib is a plotting library for python and pyplot gives us a MatLab like plotting framework. We will use this in our plotter function to plot data.\n",
                "import matplotlib.pyplot as plt\n",
                "#Seaborn is a Python data visualization library based on matplotlib. It provides a high-level interface for drawing attractive and informative statistical graphics\n",
                "import seaborn as sns\n",
                "# Preprocessing allows us to standardize our data\n",
                "from sklearn import preprocessing\n",
                "# Allows us to split our data into training and testing data\n",
                "from sklearn.model_selection import train_test_split\n",
                "# Allows us to test parameters of classification algorithms and find the best one\n",
                "from sklearn.model_selection import GridSearchCV\n",
                "# Logistic Regression classification algorithm\n",
                "from sklearn.linear_model import LogisticRegression\n",
                "# Support Vector Machine classification algorithm\n",
                "from sklearn.svm import SVC\n",
                "# Decision Tree classification algorithm\n",
                "from sklearn.tree import DecisionTreeClassifier\n",
                "# K Nearest Neighbors classification algorithm\n",
                "from sklearn.neighbors import KNeighborsClassifier"
            ]
        },
        {
            "cell_type": "markdown",
            "metadata": {},
            "source": [
                "This function is to plot the confusion matrix.\n"
            ]
        },
        {
            "cell_type": "code",
            "execution_count": 2,
            "metadata": {},
            "outputs": [],
            "source": [
                "def plot_confusion_matrix(y,y_predict):\n",
                "    \"this function plots the confusion matrix\"\n",
                "    from sklearn.metrics import confusion_matrix\n",
                "\n",
                "    cm = confusion_matrix(y, y_predict)\n",
                "    ax= plt.subplot()\n",
                "    sns.heatmap(cm, annot=True, ax = ax); #annot=True to annotate cells\n",
                "    ax.set_xlabel('Predicted labels')\n",
                "    ax.set_ylabel('True labels')\n",
                "    ax.set_title('Confusion Matrix'); \n",
                "    ax.xaxis.set_ticklabels(['did not land', 'land']); ax.yaxis.set_ticklabels(['did not land', 'landed'])"
            ]
        },
        {
            "cell_type": "markdown",
            "metadata": {},
            "source": [
                "## Load the dataframe\n"
            ]
        },
        {
            "cell_type": "markdown",
            "metadata": {},
            "source": [
                "Load the data\n"
            ]
        },
        {
            "cell_type": "code",
            "execution_count": 3,
            "metadata": {},
            "outputs": [
                {
                    "data": {
                        "text/html": [
                            "<div>\n",
                            "<style scoped>\n",
                            "    .dataframe tbody tr th:only-of-type {\n",
                            "        vertical-align: middle;\n",
                            "    }\n",
                            "\n",
                            "    .dataframe tbody tr th {\n",
                            "        vertical-align: top;\n",
                            "    }\n",
                            "\n",
                            "    .dataframe thead th {\n",
                            "        text-align: right;\n",
                            "    }\n",
                            "</style>\n",
                            "<table border=\"1\" class=\"dataframe\">\n",
                            "  <thead>\n",
                            "    <tr style=\"text-align: right;\">\n",
                            "      <th></th>\n",
                            "      <th>FlightNumber</th>\n",
                            "      <th>Date</th>\n",
                            "      <th>BoosterVersion</th>\n",
                            "      <th>PayloadMass</th>\n",
                            "      <th>Orbit</th>\n",
                            "      <th>LaunchSite</th>\n",
                            "      <th>Outcome</th>\n",
                            "      <th>Flights</th>\n",
                            "      <th>GridFins</th>\n",
                            "      <th>Reused</th>\n",
                            "      <th>Legs</th>\n",
                            "      <th>LandingPad</th>\n",
                            "      <th>Block</th>\n",
                            "      <th>ReusedCount</th>\n",
                            "      <th>Serial</th>\n",
                            "      <th>Longitude</th>\n",
                            "      <th>Latitude</th>\n",
                            "      <th>Class</th>\n",
                            "    </tr>\n",
                            "  </thead>\n",
                            "  <tbody>\n",
                            "    <tr>\n",
                            "      <th>0</th>\n",
                            "      <td>1</td>\n",
                            "      <td>2010-06-04</td>\n",
                            "      <td>Falcon 9</td>\n",
                            "      <td>6104.959412</td>\n",
                            "      <td>LEO</td>\n",
                            "      <td>CCAFS SLC 40</td>\n",
                            "      <td>None None</td>\n",
                            "      <td>1</td>\n",
                            "      <td>False</td>\n",
                            "      <td>False</td>\n",
                            "      <td>False</td>\n",
                            "      <td>NaN</td>\n",
                            "      <td>1.0</td>\n",
                            "      <td>0</td>\n",
                            "      <td>B0003</td>\n",
                            "      <td>-80.577366</td>\n",
                            "      <td>28.561857</td>\n",
                            "      <td>0</td>\n",
                            "    </tr>\n",
                            "    <tr>\n",
                            "      <th>1</th>\n",
                            "      <td>2</td>\n",
                            "      <td>2012-05-22</td>\n",
                            "      <td>Falcon 9</td>\n",
                            "      <td>525.000000</td>\n",
                            "      <td>LEO</td>\n",
                            "      <td>CCAFS SLC 40</td>\n",
                            "      <td>None None</td>\n",
                            "      <td>1</td>\n",
                            "      <td>False</td>\n",
                            "      <td>False</td>\n",
                            "      <td>False</td>\n",
                            "      <td>NaN</td>\n",
                            "      <td>1.0</td>\n",
                            "      <td>0</td>\n",
                            "      <td>B0005</td>\n",
                            "      <td>-80.577366</td>\n",
                            "      <td>28.561857</td>\n",
                            "      <td>0</td>\n",
                            "    </tr>\n",
                            "    <tr>\n",
                            "      <th>2</th>\n",
                            "      <td>3</td>\n",
                            "      <td>2013-03-01</td>\n",
                            "      <td>Falcon 9</td>\n",
                            "      <td>677.000000</td>\n",
                            "      <td>ISS</td>\n",
                            "      <td>CCAFS SLC 40</td>\n",
                            "      <td>None None</td>\n",
                            "      <td>1</td>\n",
                            "      <td>False</td>\n",
                            "      <td>False</td>\n",
                            "      <td>False</td>\n",
                            "      <td>NaN</td>\n",
                            "      <td>1.0</td>\n",
                            "      <td>0</td>\n",
                            "      <td>B0007</td>\n",
                            "      <td>-80.577366</td>\n",
                            "      <td>28.561857</td>\n",
                            "      <td>0</td>\n",
                            "    </tr>\n",
                            "    <tr>\n",
                            "      <th>3</th>\n",
                            "      <td>4</td>\n",
                            "      <td>2013-09-29</td>\n",
                            "      <td>Falcon 9</td>\n",
                            "      <td>500.000000</td>\n",
                            "      <td>PO</td>\n",
                            "      <td>VAFB SLC 4E</td>\n",
                            "      <td>False Ocean</td>\n",
                            "      <td>1</td>\n",
                            "      <td>False</td>\n",
                            "      <td>False</td>\n",
                            "      <td>False</td>\n",
                            "      <td>NaN</td>\n",
                            "      <td>1.0</td>\n",
                            "      <td>0</td>\n",
                            "      <td>B1003</td>\n",
                            "      <td>-120.610829</td>\n",
                            "      <td>34.632093</td>\n",
                            "      <td>0</td>\n",
                            "    </tr>\n",
                            "    <tr>\n",
                            "      <th>4</th>\n",
                            "      <td>5</td>\n",
                            "      <td>2013-12-03</td>\n",
                            "      <td>Falcon 9</td>\n",
                            "      <td>3170.000000</td>\n",
                            "      <td>GTO</td>\n",
                            "      <td>CCAFS SLC 40</td>\n",
                            "      <td>None None</td>\n",
                            "      <td>1</td>\n",
                            "      <td>False</td>\n",
                            "      <td>False</td>\n",
                            "      <td>False</td>\n",
                            "      <td>NaN</td>\n",
                            "      <td>1.0</td>\n",
                            "      <td>0</td>\n",
                            "      <td>B1004</td>\n",
                            "      <td>-80.577366</td>\n",
                            "      <td>28.561857</td>\n",
                            "      <td>0</td>\n",
                            "    </tr>\n",
                            "  </tbody>\n",
                            "</table>\n",
                            "</div>"
                        ],
                        "text/plain": [
                            "   FlightNumber        Date BoosterVersion  PayloadMass Orbit    LaunchSite  \\\n",
                            "0             1  2010-06-04       Falcon 9  6104.959412   LEO  CCAFS SLC 40   \n",
                            "1             2  2012-05-22       Falcon 9   525.000000   LEO  CCAFS SLC 40   \n",
                            "2             3  2013-03-01       Falcon 9   677.000000   ISS  CCAFS SLC 40   \n",
                            "3             4  2013-09-29       Falcon 9   500.000000    PO   VAFB SLC 4E   \n",
                            "4             5  2013-12-03       Falcon 9  3170.000000   GTO  CCAFS SLC 40   \n",
                            "\n",
                            "       Outcome  Flights  GridFins  Reused   Legs LandingPad  Block  \\\n",
                            "0    None None        1     False   False  False        NaN    1.0   \n",
                            "1    None None        1     False   False  False        NaN    1.0   \n",
                            "2    None None        1     False   False  False        NaN    1.0   \n",
                            "3  False Ocean        1     False   False  False        NaN    1.0   \n",
                            "4    None None        1     False   False  False        NaN    1.0   \n",
                            "\n",
                            "   ReusedCount Serial   Longitude   Latitude  Class  \n",
                            "0            0  B0003  -80.577366  28.561857      0  \n",
                            "1            0  B0005  -80.577366  28.561857      0  \n",
                            "2            0  B0007  -80.577366  28.561857      0  \n",
                            "3            0  B1003 -120.610829  34.632093      0  \n",
                            "4            0  B1004  -80.577366  28.561857      0  "
                        ]
                    },
                    "execution_count": 3,
                    "metadata": {},
                    "output_type": "execute_result"
                }
            ],
            "source": [
                "data = pd.read_csv(\"https://cf-courses-data.s3.us.cloud-object-storage.appdomain.cloud/IBM-DS0321EN-SkillsNetwork/datasets/dataset_part_2.csv\")\n",
                "\n",
                "# If you were unable to complete the previous lab correctly you can uncomment and load this csv\n",
                "\n",
                "# data = pd.read_csv('https://cf-courses-data.s3.us.cloud-object-storage.appdomain.cloud/IBMDeveloperSkillsNetwork-DS0701EN-SkillsNetwork/api/dataset_part_2.csv')\n",
                "\n",
                "data.head()"
            ]
        },
        {
            "cell_type": "code",
            "execution_count": 4,
            "metadata": {},
            "outputs": [
                {
                    "data": {
                        "text/html": [
                            "<div>\n",
                            "<style scoped>\n",
                            "    .dataframe tbody tr th:only-of-type {\n",
                            "        vertical-align: middle;\n",
                            "    }\n",
                            "\n",
                            "    .dataframe tbody tr th {\n",
                            "        vertical-align: top;\n",
                            "    }\n",
                            "\n",
                            "    .dataframe thead th {\n",
                            "        text-align: right;\n",
                            "    }\n",
                            "</style>\n",
                            "<table border=\"1\" class=\"dataframe\">\n",
                            "  <thead>\n",
                            "    <tr style=\"text-align: right;\">\n",
                            "      <th></th>\n",
                            "      <th>FlightNumber</th>\n",
                            "      <th>PayloadMass</th>\n",
                            "      <th>Flights</th>\n",
                            "      <th>Block</th>\n",
                            "      <th>ReusedCount</th>\n",
                            "      <th>Orbit_ES-L1</th>\n",
                            "      <th>Orbit_GEO</th>\n",
                            "      <th>Orbit_GTO</th>\n",
                            "      <th>Orbit_HEO</th>\n",
                            "      <th>Orbit_ISS</th>\n",
                            "      <th>...</th>\n",
                            "      <th>Serial_B1058</th>\n",
                            "      <th>Serial_B1059</th>\n",
                            "      <th>Serial_B1060</th>\n",
                            "      <th>Serial_B1062</th>\n",
                            "      <th>GridFins_False</th>\n",
                            "      <th>GridFins_True</th>\n",
                            "      <th>Reused_False</th>\n",
                            "      <th>Reused_True</th>\n",
                            "      <th>Legs_False</th>\n",
                            "      <th>Legs_True</th>\n",
                            "    </tr>\n",
                            "  </thead>\n",
                            "  <tbody>\n",
                            "    <tr>\n",
                            "      <th>0</th>\n",
                            "      <td>1.0</td>\n",
                            "      <td>6104.959412</td>\n",
                            "      <td>1.0</td>\n",
                            "      <td>1.0</td>\n",
                            "      <td>0.0</td>\n",
                            "      <td>0.0</td>\n",
                            "      <td>0.0</td>\n",
                            "      <td>0.0</td>\n",
                            "      <td>0.0</td>\n",
                            "      <td>0.0</td>\n",
                            "      <td>...</td>\n",
                            "      <td>0.0</td>\n",
                            "      <td>0.0</td>\n",
                            "      <td>0.0</td>\n",
                            "      <td>0.0</td>\n",
                            "      <td>1.0</td>\n",
                            "      <td>0.0</td>\n",
                            "      <td>1.0</td>\n",
                            "      <td>0.0</td>\n",
                            "      <td>1.0</td>\n",
                            "      <td>0.0</td>\n",
                            "    </tr>\n",
                            "    <tr>\n",
                            "      <th>1</th>\n",
                            "      <td>2.0</td>\n",
                            "      <td>525.000000</td>\n",
                            "      <td>1.0</td>\n",
                            "      <td>1.0</td>\n",
                            "      <td>0.0</td>\n",
                            "      <td>0.0</td>\n",
                            "      <td>0.0</td>\n",
                            "      <td>0.0</td>\n",
                            "      <td>0.0</td>\n",
                            "      <td>0.0</td>\n",
                            "      <td>...</td>\n",
                            "      <td>0.0</td>\n",
                            "      <td>0.0</td>\n",
                            "      <td>0.0</td>\n",
                            "      <td>0.0</td>\n",
                            "      <td>1.0</td>\n",
                            "      <td>0.0</td>\n",
                            "      <td>1.0</td>\n",
                            "      <td>0.0</td>\n",
                            "      <td>1.0</td>\n",
                            "      <td>0.0</td>\n",
                            "    </tr>\n",
                            "    <tr>\n",
                            "      <th>2</th>\n",
                            "      <td>3.0</td>\n",
                            "      <td>677.000000</td>\n",
                            "      <td>1.0</td>\n",
                            "      <td>1.0</td>\n",
                            "      <td>0.0</td>\n",
                            "      <td>0.0</td>\n",
                            "      <td>0.0</td>\n",
                            "      <td>0.0</td>\n",
                            "      <td>0.0</td>\n",
                            "      <td>1.0</td>\n",
                            "      <td>...</td>\n",
                            "      <td>0.0</td>\n",
                            "      <td>0.0</td>\n",
                            "      <td>0.0</td>\n",
                            "      <td>0.0</td>\n",
                            "      <td>1.0</td>\n",
                            "      <td>0.0</td>\n",
                            "      <td>1.0</td>\n",
                            "      <td>0.0</td>\n",
                            "      <td>1.0</td>\n",
                            "      <td>0.0</td>\n",
                            "    </tr>\n",
                            "    <tr>\n",
                            "      <th>3</th>\n",
                            "      <td>4.0</td>\n",
                            "      <td>500.000000</td>\n",
                            "      <td>1.0</td>\n",
                            "      <td>1.0</td>\n",
                            "      <td>0.0</td>\n",
                            "      <td>0.0</td>\n",
                            "      <td>0.0</td>\n",
                            "      <td>0.0</td>\n",
                            "      <td>0.0</td>\n",
                            "      <td>0.0</td>\n",
                            "      <td>...</td>\n",
                            "      <td>0.0</td>\n",
                            "      <td>0.0</td>\n",
                            "      <td>0.0</td>\n",
                            "      <td>0.0</td>\n",
                            "      <td>1.0</td>\n",
                            "      <td>0.0</td>\n",
                            "      <td>1.0</td>\n",
                            "      <td>0.0</td>\n",
                            "      <td>1.0</td>\n",
                            "      <td>0.0</td>\n",
                            "    </tr>\n",
                            "    <tr>\n",
                            "      <th>4</th>\n",
                            "      <td>5.0</td>\n",
                            "      <td>3170.000000</td>\n",
                            "      <td>1.0</td>\n",
                            "      <td>1.0</td>\n",
                            "      <td>0.0</td>\n",
                            "      <td>0.0</td>\n",
                            "      <td>0.0</td>\n",
                            "      <td>1.0</td>\n",
                            "      <td>0.0</td>\n",
                            "      <td>0.0</td>\n",
                            "      <td>...</td>\n",
                            "      <td>0.0</td>\n",
                            "      <td>0.0</td>\n",
                            "      <td>0.0</td>\n",
                            "      <td>0.0</td>\n",
                            "      <td>1.0</td>\n",
                            "      <td>0.0</td>\n",
                            "      <td>1.0</td>\n",
                            "      <td>0.0</td>\n",
                            "      <td>1.0</td>\n",
                            "      <td>0.0</td>\n",
                            "    </tr>\n",
                            "    <tr>\n",
                            "      <th>...</th>\n",
                            "      <td>...</td>\n",
                            "      <td>...</td>\n",
                            "      <td>...</td>\n",
                            "      <td>...</td>\n",
                            "      <td>...</td>\n",
                            "      <td>...</td>\n",
                            "      <td>...</td>\n",
                            "      <td>...</td>\n",
                            "      <td>...</td>\n",
                            "      <td>...</td>\n",
                            "      <td>...</td>\n",
                            "      <td>...</td>\n",
                            "      <td>...</td>\n",
                            "      <td>...</td>\n",
                            "      <td>...</td>\n",
                            "      <td>...</td>\n",
                            "      <td>...</td>\n",
                            "      <td>...</td>\n",
                            "      <td>...</td>\n",
                            "      <td>...</td>\n",
                            "      <td>...</td>\n",
                            "    </tr>\n",
                            "    <tr>\n",
                            "      <th>85</th>\n",
                            "      <td>86.0</td>\n",
                            "      <td>15400.000000</td>\n",
                            "      <td>2.0</td>\n",
                            "      <td>5.0</td>\n",
                            "      <td>2.0</td>\n",
                            "      <td>0.0</td>\n",
                            "      <td>0.0</td>\n",
                            "      <td>0.0</td>\n",
                            "      <td>0.0</td>\n",
                            "      <td>0.0</td>\n",
                            "      <td>...</td>\n",
                            "      <td>0.0</td>\n",
                            "      <td>0.0</td>\n",
                            "      <td>1.0</td>\n",
                            "      <td>0.0</td>\n",
                            "      <td>0.0</td>\n",
                            "      <td>1.0</td>\n",
                            "      <td>0.0</td>\n",
                            "      <td>1.0</td>\n",
                            "      <td>0.0</td>\n",
                            "      <td>1.0</td>\n",
                            "    </tr>\n",
                            "    <tr>\n",
                            "      <th>86</th>\n",
                            "      <td>87.0</td>\n",
                            "      <td>15400.000000</td>\n",
                            "      <td>3.0</td>\n",
                            "      <td>5.0</td>\n",
                            "      <td>2.0</td>\n",
                            "      <td>0.0</td>\n",
                            "      <td>0.0</td>\n",
                            "      <td>0.0</td>\n",
                            "      <td>0.0</td>\n",
                            "      <td>0.0</td>\n",
                            "      <td>...</td>\n",
                            "      <td>1.0</td>\n",
                            "      <td>0.0</td>\n",
                            "      <td>0.0</td>\n",
                            "      <td>0.0</td>\n",
                            "      <td>0.0</td>\n",
                            "      <td>1.0</td>\n",
                            "      <td>0.0</td>\n",
                            "      <td>1.0</td>\n",
                            "      <td>0.0</td>\n",
                            "      <td>1.0</td>\n",
                            "    </tr>\n",
                            "    <tr>\n",
                            "      <th>87</th>\n",
                            "      <td>88.0</td>\n",
                            "      <td>15400.000000</td>\n",
                            "      <td>6.0</td>\n",
                            "      <td>5.0</td>\n",
                            "      <td>5.0</td>\n",
                            "      <td>0.0</td>\n",
                            "      <td>0.0</td>\n",
                            "      <td>0.0</td>\n",
                            "      <td>0.0</td>\n",
                            "      <td>0.0</td>\n",
                            "      <td>...</td>\n",
                            "      <td>0.0</td>\n",
                            "      <td>0.0</td>\n",
                            "      <td>0.0</td>\n",
                            "      <td>0.0</td>\n",
                            "      <td>0.0</td>\n",
                            "      <td>1.0</td>\n",
                            "      <td>0.0</td>\n",
                            "      <td>1.0</td>\n",
                            "      <td>0.0</td>\n",
                            "      <td>1.0</td>\n",
                            "    </tr>\n",
                            "    <tr>\n",
                            "      <th>88</th>\n",
                            "      <td>89.0</td>\n",
                            "      <td>15400.000000</td>\n",
                            "      <td>3.0</td>\n",
                            "      <td>5.0</td>\n",
                            "      <td>2.0</td>\n",
                            "      <td>0.0</td>\n",
                            "      <td>0.0</td>\n",
                            "      <td>0.0</td>\n",
                            "      <td>0.0</td>\n",
                            "      <td>0.0</td>\n",
                            "      <td>...</td>\n",
                            "      <td>0.0</td>\n",
                            "      <td>0.0</td>\n",
                            "      <td>1.0</td>\n",
                            "      <td>0.0</td>\n",
                            "      <td>0.0</td>\n",
                            "      <td>1.0</td>\n",
                            "      <td>0.0</td>\n",
                            "      <td>1.0</td>\n",
                            "      <td>0.0</td>\n",
                            "      <td>1.0</td>\n",
                            "    </tr>\n",
                            "    <tr>\n",
                            "      <th>89</th>\n",
                            "      <td>90.0</td>\n",
                            "      <td>3681.000000</td>\n",
                            "      <td>1.0</td>\n",
                            "      <td>5.0</td>\n",
                            "      <td>0.0</td>\n",
                            "      <td>0.0</td>\n",
                            "      <td>0.0</td>\n",
                            "      <td>0.0</td>\n",
                            "      <td>0.0</td>\n",
                            "      <td>0.0</td>\n",
                            "      <td>...</td>\n",
                            "      <td>0.0</td>\n",
                            "      <td>0.0</td>\n",
                            "      <td>0.0</td>\n",
                            "      <td>1.0</td>\n",
                            "      <td>0.0</td>\n",
                            "      <td>1.0</td>\n",
                            "      <td>1.0</td>\n",
                            "      <td>0.0</td>\n",
                            "      <td>0.0</td>\n",
                            "      <td>1.0</td>\n",
                            "    </tr>\n",
                            "  </tbody>\n",
                            "</table>\n",
                            "<p>90 rows × 83 columns</p>\n",
                            "</div>"
                        ],
                        "text/plain": [
                            "    FlightNumber   PayloadMass  Flights  Block  ReusedCount  Orbit_ES-L1  \\\n",
                            "0            1.0   6104.959412      1.0    1.0          0.0          0.0   \n",
                            "1            2.0    525.000000      1.0    1.0          0.0          0.0   \n",
                            "2            3.0    677.000000      1.0    1.0          0.0          0.0   \n",
                            "3            4.0    500.000000      1.0    1.0          0.0          0.0   \n",
                            "4            5.0   3170.000000      1.0    1.0          0.0          0.0   \n",
                            "..           ...           ...      ...    ...          ...          ...   \n",
                            "85          86.0  15400.000000      2.0    5.0          2.0          0.0   \n",
                            "86          87.0  15400.000000      3.0    5.0          2.0          0.0   \n",
                            "87          88.0  15400.000000      6.0    5.0          5.0          0.0   \n",
                            "88          89.0  15400.000000      3.0    5.0          2.0          0.0   \n",
                            "89          90.0   3681.000000      1.0    5.0          0.0          0.0   \n",
                            "\n",
                            "    Orbit_GEO  Orbit_GTO  Orbit_HEO  Orbit_ISS  ...  Serial_B1058  \\\n",
                            "0         0.0        0.0        0.0        0.0  ...           0.0   \n",
                            "1         0.0        0.0        0.0        0.0  ...           0.0   \n",
                            "2         0.0        0.0        0.0        1.0  ...           0.0   \n",
                            "3         0.0        0.0        0.0        0.0  ...           0.0   \n",
                            "4         0.0        1.0        0.0        0.0  ...           0.0   \n",
                            "..        ...        ...        ...        ...  ...           ...   \n",
                            "85        0.0        0.0        0.0        0.0  ...           0.0   \n",
                            "86        0.0        0.0        0.0        0.0  ...           1.0   \n",
                            "87        0.0        0.0        0.0        0.0  ...           0.0   \n",
                            "88        0.0        0.0        0.0        0.0  ...           0.0   \n",
                            "89        0.0        0.0        0.0        0.0  ...           0.0   \n",
                            "\n",
                            "    Serial_B1059  Serial_B1060  Serial_B1062  GridFins_False  GridFins_True  \\\n",
                            "0            0.0           0.0           0.0             1.0            0.0   \n",
                            "1            0.0           0.0           0.0             1.0            0.0   \n",
                            "2            0.0           0.0           0.0             1.0            0.0   \n",
                            "3            0.0           0.0           0.0             1.0            0.0   \n",
                            "4            0.0           0.0           0.0             1.0            0.0   \n",
                            "..           ...           ...           ...             ...            ...   \n",
                            "85           0.0           1.0           0.0             0.0            1.0   \n",
                            "86           0.0           0.0           0.0             0.0            1.0   \n",
                            "87           0.0           0.0           0.0             0.0            1.0   \n",
                            "88           0.0           1.0           0.0             0.0            1.0   \n",
                            "89           0.0           0.0           1.0             0.0            1.0   \n",
                            "\n",
                            "    Reused_False  Reused_True  Legs_False  Legs_True  \n",
                            "0            1.0          0.0         1.0        0.0  \n",
                            "1            1.0          0.0         1.0        0.0  \n",
                            "2            1.0          0.0         1.0        0.0  \n",
                            "3            1.0          0.0         1.0        0.0  \n",
                            "4            1.0          0.0         1.0        0.0  \n",
                            "..           ...          ...         ...        ...  \n",
                            "85           0.0          1.0         0.0        1.0  \n",
                            "86           0.0          1.0         0.0        1.0  \n",
                            "87           0.0          1.0         0.0        1.0  \n",
                            "88           0.0          1.0         0.0        1.0  \n",
                            "89           1.0          0.0         0.0        1.0  \n",
                            "\n",
                            "[90 rows x 83 columns]"
                        ]
                    },
                    "execution_count": 4,
                    "metadata": {},
                    "output_type": "execute_result"
                }
            ],
            "source": [
                "X = pd.read_csv('https://cf-courses-data.s3.us.cloud-object-storage.appdomain.cloud/IBM-DS0321EN-SkillsNetwork/datasets/dataset_part_3.csv')\n",
                "\n",
                "# If you were unable to complete the previous lab correctly you can uncomment and load this csv\n",
                "\n",
                "# X = pd.read_csv('https://cf-courses-data.s3.us.cloud-object-storage.appdomain.cloud/IBMDeveloperSkillsNetwork-DS0701EN-SkillsNetwork/api/dataset_part_3.csv')\n",
                "\n",
                "X.head(100)"
            ]
        },
        {
            "cell_type": "markdown",
            "metadata": {},
            "source": [
                "## TASK  1\n"
            ]
        },
        {
            "cell_type": "markdown",
            "metadata": {},
            "source": [
                "Create a NumPy array from the column <code>Class</code> in <code>data</code>, by applying the method <code>to_numpy()</code>  then\n",
                "assign it  to the variable <code>Y</code>,make sure the output is a  Pandas series (only one bracket df\\['name of  column']).\n"
            ]
        },
        {
            "cell_type": "code",
            "execution_count": 5,
            "metadata": {},
            "outputs": [],
            "source": [
                "Y = data['Class'].to_numpy()"
            ]
        },
        {
            "cell_type": "code",
            "execution_count": 6,
            "metadata": {},
            "outputs": [
                {
                    "data": {
                        "text/plain": [
                            "array([0, 0, 0, 0, 0, 0, 1, 1, 0, 0, 0, 0, 1, 0, 0, 0, 1, 0, 0, 1, 1, 1,\n",
                            "       1, 1, 0, 1, 1, 0, 1, 1, 0, 1, 1, 1, 0, 1, 1, 1, 1, 1, 1, 1, 1, 1,\n",
                            "       1, 0, 0, 0, 1, 1, 0, 0, 1, 1, 1, 1, 1, 1, 1, 0, 0, 1, 1, 1, 1, 1,\n",
                            "       1, 0, 1, 1, 1, 1, 0, 1, 0, 1, 0, 1, 1, 1, 1, 1, 1, 1, 1, 1, 1, 1,\n",
                            "       1, 1], dtype=int64)"
                        ]
                    },
                    "execution_count": 6,
                    "metadata": {},
                    "output_type": "execute_result"
                }
            ],
            "source": [
                "Y"
            ]
        },
        {
            "cell_type": "markdown",
            "metadata": {},
            "source": [
                "## TASK  2\n"
            ]
        },
        {
            "cell_type": "markdown",
            "metadata": {},
            "source": [
                "Standardize the data in <code>X</code> then reassign it to the variable  <code>X</code> using the transform provided below.\n"
            ]
        },
        {
            "cell_type": "code",
            "execution_count": 7,
            "metadata": {},
            "outputs": [],
            "source": [
                "# students get this \n",
                "transform = preprocessing.StandardScaler()"
            ]
        },
        {
            "cell_type": "code",
            "execution_count": 8,
            "metadata": {},
            "outputs": [],
            "source": [
                "X = transform.fit(X).transform(X)"
            ]
        },
        {
            "cell_type": "markdown",
            "metadata": {},
            "source": [
                "We split the data into training and testing data using the  function  <code>train_test_split</code>.   The training data is divided into validation data, a second set used for training  data; then the models are trained and hyperparameters are selected using the function <code>GridSearchCV</code>.\n"
            ]
        },
        {
            "cell_type": "markdown",
            "metadata": {},
            "source": [
                "## TASK  3\n"
            ]
        },
        {
            "cell_type": "markdown",
            "metadata": {},
            "source": [
                "Use the function train_test_split to split the data X and Y into training and test data. Set the parameter test_size to  0.2 and random_state to 2. The training data and test data should be assigned to the following labels.\n"
            ]
        },
        {
            "cell_type": "markdown",
            "metadata": {},
            "source": [
                "<code>X_train, X_test, Y_train, Y_test</code>\n"
            ]
        },
        {
            "cell_type": "code",
            "execution_count": 9,
            "metadata": {},
            "outputs": [],
            "source": [
                "X_train, X_test, Y_train, Y_test = train_test_split(X, Y, test_size=0.2, random_state=2)"
            ]
        },
        {
            "cell_type": "markdown",
            "metadata": {},
            "source": [
                "we can see we only have 18 test samples.\n"
            ]
        },
        {
            "cell_type": "code",
            "execution_count": 10,
            "metadata": {},
            "outputs": [
                {
                    "data": {
                        "text/plain": [
                            "(18,)"
                        ]
                    },
                    "execution_count": 10,
                    "metadata": {},
                    "output_type": "execute_result"
                }
            ],
            "source": [
                "Y_test.shape"
            ]
        },
        {
            "cell_type": "markdown",
            "metadata": {},
            "source": [
                "## TASK  4\n"
            ]
        },
        {
            "cell_type": "markdown",
            "metadata": {},
            "source": [
                "Create a logistic regression object  then create a  GridSearchCV object  <code>logreg_cv</code> with cv = 10.  Fit the object to find the best parameters from the dictionary <code>parameters</code>.\n"
            ]
        },
        {
            "cell_type": "code",
            "execution_count": 11,
            "metadata": {},
            "outputs": [],
            "source": [
                "parameters ={'C':[0.01,0.1,1],\n",
                "             'penalty':['l2'],\n",
                "             'solver':['lbfgs']} #limited-memory BFGS algorithm"
            ]
        },
        {
            "cell_type": "code",
            "execution_count": 12,
            "metadata": {},
            "outputs": [],
            "source": [
                "parameters ={\"C\":[0.01,0.1,1],'penalty':['l2'], 'solver':['lbfgs']}# l1 lasso l2 ridge\n",
                "lr=LogisticRegression()\n",
                "\n",
                "gridsearch_cv_lr = GridSearchCV(lr, parameters, scoring='accuracy', cv=10)\n",
                "logreg_cv = gridsearch_cv_lr.fit(X_train, Y_train)"
            ]
        },
        {
            "cell_type": "markdown",
            "metadata": {},
            "source": [
                "We output the <code>GridSearchCV</code> object for logistic regression. We display the best parameters using the data attribute <code>best_params\\_</code> and the accuracy on the validation data using the data attribute <code>best_score\\_</code>.\n"
            ]
        },
        {
            "cell_type": "code",
            "execution_count": 13,
            "metadata": {},
            "outputs": [
                {
                    "name": "stdout",
                    "output_type": "stream",
                    "text": [
                        "tuned hyperparameters :(best parameters)  {'C': 0.01, 'penalty': 'l2', 'solver': 'lbfgs'}\n",
                        "accuracy : 0.8464285714285713\n"
                    ]
                }
            ],
            "source": [
                "print(\"tuned hyperparameters :(best parameters) \", logreg_cv.best_params_)\n",
                "lr_best_score = logreg_cv.best_score_\n",
                "print(\"accuracy :\", lr_best_score)"
            ]
        },
        {
            "cell_type": "markdown",
            "metadata": {},
            "source": [
                "## TASK  5\n"
            ]
        },
        {
            "cell_type": "markdown",
            "metadata": {},
            "source": [
                "Calculate the accuracy on the test data using the method <code>score</code>:\n"
            ]
        },
        {
            "cell_type": "code",
            "execution_count": 14,
            "metadata": {},
            "outputs": [],
            "source": [
                "lr_score = logreg_cv.score(X_test, Y_test)"
            ]
        },
        {
            "cell_type": "code",
            "execution_count": 15,
            "metadata": {},
            "outputs": [
                {
                    "name": "stdout",
                    "output_type": "stream",
                    "text": [
                        "Logistic Regression - Accuracy using method score: 0.8333333333333334\n"
                    ]
                }
            ],
            "source": [
                "print(f\"Logistic Regression - Accuracy using method score: {lr_score}\")"
            ]
        },
        {
            "cell_type": "markdown",
            "metadata": {},
            "source": [
                "Lets look at the confusion matrix:\n"
            ]
        },
        {
            "cell_type": "code",
            "execution_count": 16,
            "metadata": {},
            "outputs": [
                {
                    "data": {
                        "image/png": "[encoded data removed]",
                        "text/plain": [
                            "<Figure size 640x480 with 2 Axes>"
                        ]
                    },
                    "metadata": {},
                    "output_type": "display_data"
                }
            ],
            "source": [
                "yhat=logreg_cv.predict(X_test)\n",
                "plot_confusion_matrix(Y_test,yhat)"
            ]
        },
        {
            "cell_type": "markdown",
            "metadata": {},
            "source": [
                "Examining the confusion matrix, we see that logistic regression can distinguish between the different classes.  We see that the major problem is false positives.\n"
            ]
        },
        {
            "cell_type": "markdown",
            "metadata": {},
            "source": [
                "## TASK  6\n"
            ]
        },
        {
            "cell_type": "markdown",
            "metadata": {},
            "source": [
                "Create a support vector machine object then  create a  <code>GridSearchCV</code> object  <code>svm_cv</code> with cv = 10.  Fit the object to find the best parameters from the dictionary <code>parameters</code>.\n"
            ]
        },
        {
            "cell_type": "code",
            "execution_count": 17,
            "metadata": {},
            "outputs": [],
            "source": [
                "parameters = {'kernel':('linear', 'rbf','poly','rbf', 'sigmoid'),\n",
                "              'C': np.logspace(-3, 3, 5),\n",
                "              'gamma':np.logspace(-3, 3, 5)}\n",
                "svm = SVC()"
            ]
        },
        {
            "cell_type": "code",
            "execution_count": 18,
            "metadata": {},
            "outputs": [],
            "source": [
                "gridsearch_cv_svm = GridSearchCV(svm, parameters, scoring='accuracy', cv=10)\n",
                "svm_cv = gridsearch_cv_svm.fit(X_train, Y_train)"
            ]
        },
        {
            "cell_type": "code",
            "execution_count": 19,
            "metadata": {},
            "outputs": [
                {
                    "name": "stdout",
                    "output_type": "stream",
                    "text": [
                        "tuned hyperparameters :(best parameters)  {'C': 1.0, 'gamma': 0.03162277660168379, 'kernel': 'sigmoid'}\n",
                        "accuracy : 0.8482142857142856\n"
                    ]
                }
            ],
            "source": [
                "print(\"tuned hyperparameters :(best parameters) \",svm_cv.best_params_)\n",
                "svm_best_score = svm_cv.best_score_\n",
                "print(\"accuracy :\",svm_best_score)"
            ]
        },
        {
            "cell_type": "markdown",
            "metadata": {},
            "source": [
                "## TASK  7\n"
            ]
        },
        {
            "cell_type": "markdown",
            "metadata": {},
            "source": [
                "Calculate the accuracy on the test data using the method <code>score</code>:\n"
            ]
        },
        {
            "cell_type": "code",
            "execution_count": 20,
            "metadata": {},
            "outputs": [],
            "source": [
                "svm_score = svm_cv.score(X_test, Y_test)"
            ]
        },
        {
            "cell_type": "code",
            "execution_count": 21,
            "metadata": {},
            "outputs": [
                {
                    "name": "stdout",
                    "output_type": "stream",
                    "text": [
                        "SVM - Accuracy using method score: 0.8333333333333334\n"
                    ]
                }
            ],
            "source": [
                "print(f\"SVM - Accuracy using method score: {svm_score}\")"
            ]
        },
        {
            "cell_type": "markdown",
            "metadata": {},
            "source": [
                "We can plot the confusion matrix\n"
            ]
        },
        {
            "cell_type": "code",
            "execution_count": 22,
            "metadata": {},
            "outputs": [
                {
                    "data": {
                        "image/png": "[encoded data removed]",
                        "text/plain": [
                            "<Figure size 640x480 with 2 Axes>"
                        ]
                    },
                    "metadata": {},
                    "output_type": "display_data"
                }
            ],
            "source": [
                "yhat=svm_cv.predict(X_test)\n",
                "plot_confusion_matrix(Y_test,yhat)"
            ]
        },
        {
            "cell_type": "markdown",
            "metadata": {},
            "source": [
                "## TASK  8\n"
            ]
        },
        {
            "cell_type": "markdown",
            "metadata": {},
            "source": [
                "Create a decision tree classifier object then  create a  <code>GridSearchCV</code> object  <code>tree_cv</code> with cv = 10.  Fit the object to find the best parameters from the dictionary <code>parameters</code>.\n"
            ]
        },
        {
            "cell_type": "code",
            "execution_count": 23,
            "metadata": {},
            "outputs": [],
            "source": [
                "parameters = {'criterion': ['gini', 'entropy'],\n",
                "     'splitter': ['best', 'random'],\n",
                "     'max_depth': [2*n for n in range(1,10)],\n",
                "     'max_features': ['auto', 'sqrt'],\n",
                "     'min_samples_leaf': [1, 2, 4],\n",
                "     'min_samples_split': [2, 5, 10]}\n",
                "\n",
                "tree = DecisionTreeClassifier()"
            ]
        },
        {
            "cell_type": "code",
            "execution_count": 24,
            "metadata": {},
            "outputs": [
                {
                    "name": "stderr",
                    "output_type": "stream",
                    "text": [
                        "c:\\Users\\ossam\\AppData\\Local\\Programs\\Python\\Python312\\Lib\\site-packages\\sklearn\\model_selection\\_validation.py:542: FitFailedWarning: \n",
                        "3240 fits failed out of a total of 6480.\n",
                        "The score on these train-test partitions for these parameters will be set to nan.\n",
                        "If these failures are not expected, you can try to debug them by setting error_score='raise'.\n",
                        "\n",
                        "Below are more details about the failures:\n",
                        "--------------------------------------------------------------------------------\n",
                        "3240 fits failed with the following error:\n",
                        "Traceback (most recent call last):\n",
                        "  File \"c:\\Users\\ossam\\AppData\\Local\\Programs\\Python\\Python312\\Lib\\site-packages\\sklearn\\model_selection\\_validation.py\", line 890, in _fit_and_score\n",
                        "    estimator.fit(X_train, y_train, **fit_params)\n",
                        "  File \"c:\\Users\\ossam\\AppData\\Local\\Programs\\Python\\Python312\\Lib\\site-packages\\sklearn\\base.py\", line 1344, in wrapper\n",
                        "    estimator._validate_params()\n",
                        "  File \"c:\\Users\\ossam\\AppData\\Local\\Programs\\Python\\Python312\\Lib\\site-packages\\sklearn\\base.py\", line 666, in _validate_params\n",
                        "    validate_parameter_constraints(\n",
                        "  File \"c:\\Users\\ossam\\AppData\\Local\\Programs\\Python\\Python312\\Lib\\site-packages\\sklearn\\utils\\_param_validation.py\", line 95, in validate_parameter_constraints\n",
                        "    raise InvalidParameterError(\n",
                        "sklearn.utils._param_validation.InvalidParameterError: The 'max_features' parameter of DecisionTreeClassifier must be an int in the range [1, inf), a float in the range (0.0, 1.0], a str among {'log2', 'sqrt'} or None. Got 'auto' instead.\n",
                        "\n",
                        "  warnings.warn(some_fits_failed_message, FitFailedWarning)\n",
                        "c:\\Users\\ossam\\AppData\\Local\\Programs\\Python\\Python312\\Lib\\site-packages\\sklearn\\model_selection\\_search.py:1051: UserWarning: One or more of the test scores are non-finite: [       nan        nan        nan        nan        nan        nan\n",
                        "        nan        nan        nan        nan        nan        nan\n",
                        "        nan        nan        nan        nan        nan        nan\n",
                        " 0.77321429 0.79107143 0.75357143 0.775      0.78928571 0.77678571\n",
                        " 0.76785714 0.83392857 0.82142857 0.76607143 0.78214286 0.79464286\n",
                        " 0.85892857 0.80178571 0.79107143 0.84642857 0.81964286 0.79285714\n",
                        "        nan        nan        nan        nan        nan        nan\n",
                        "        nan        nan        nan        nan        nan        nan\n",
                        "        nan        nan        nan        nan        nan        nan\n",
                        " 0.73392857 0.86071429 0.83214286 0.79464286 0.83392857 0.80714286\n",
                        " 0.80357143 0.83214286 0.81785714 0.7375     0.80178571 0.76607143\n",
                        " 0.81785714 0.76428571 0.82142857 0.775      0.76607143 0.80357143\n",
                        "        nan        nan        nan        nan        nan        nan\n",
                        "        nan        nan        nan        nan        nan        nan\n",
                        "        nan        nan        nan        nan        nan        nan\n",
                        " 0.80535714 0.80535714 0.8875     0.84821429 0.77678571 0.775\n",
                        " 0.81964286 0.81785714 0.74821429 0.84821429 0.83214286 0.80535714\n",
                        " 0.73214286 0.78928571 0.77857143 0.74642857 0.74821429 0.775\n",
                        "        nan        nan        nan        nan        nan        nan\n",
                        "        nan        nan        nan        nan        nan        nan\n",
                        "        nan        nan        nan        nan        nan        nan\n",
                        " 0.73392857 0.79107143 0.80178571 0.79464286 0.80535714 0.83214286\n",
                        " 0.7625     0.73214286 0.77678571 0.70535714 0.73035714 0.875\n",
                        " 0.80535714 0.77678571 0.75       0.84642857 0.775      0.81964286\n",
                        "        nan        nan        nan        nan        nan        nan\n",
                        "        nan        nan        nan        nan        nan        nan\n",
                        "        nan        nan        nan        nan        nan        nan\n",
                        " 0.75       0.72321429 0.72321429 0.79107143 0.84642857 0.77857143\n",
                        " 0.79107143 0.84821429 0.7625     0.73392857 0.74821429 0.84821429\n",
                        " 0.78928571 0.81964286 0.79107143 0.82142857 0.80357143 0.78214286\n",
                        "        nan        nan        nan        nan        nan        nan\n",
                        "        nan        nan        nan        nan        nan        nan\n",
                        "        nan        nan        nan        nan        nan        nan\n",
                        " 0.81964286 0.73571429 0.76428571 0.77678571 0.69285714 0.775\n",
                        " 0.75357143 0.7875     0.75       0.76071429 0.80892857 0.71964286\n",
                        " 0.74642857 0.77857143 0.78035714 0.80535714 0.81964286 0.79107143\n",
                        "        nan        nan        nan        nan        nan        nan\n",
                        "        nan        nan        nan        nan        nan        nan\n",
                        "        nan        nan        nan        nan        nan        nan\n",
                        " 0.78928571 0.79107143 0.77678571 0.72142857 0.81785714 0.77857143\n",
                        " 0.71785714 0.775      0.79107143 0.79107143 0.75       0.81785714\n",
                        " 0.76964286 0.83214286 0.78035714 0.775      0.76428571 0.8625\n",
                        "        nan        nan        nan        nan        nan        nan\n",
                        "        nan        nan        nan        nan        nan        nan\n",
                        "        nan        nan        nan        nan        nan        nan\n",
                        " 0.82142857 0.83392857 0.79285714 0.77678571 0.7625     0.80535714\n",
                        " 0.6375     0.77678571 0.76071429 0.79464286 0.75       0.80357143\n",
                        " 0.75178571 0.8625     0.84642857 0.84642857 0.81607143 0.80535714\n",
                        "        nan        nan        nan        nan        nan        nan\n",
                        "        nan        nan        nan        nan        nan        nan\n",
                        "        nan        nan        nan        nan        nan        nan\n",
                        " 0.73571429 0.77857143 0.75       0.86071429 0.775      0.79285714\n",
                        " 0.82142857 0.80535714 0.77678571 0.84464286 0.78571429 0.68035714\n",
                        " 0.86071429 0.83214286 0.73928571 0.725      0.80714286 0.74821429\n",
                        "        nan        nan        nan        nan        nan        nan\n",
                        "        nan        nan        nan        nan        nan        nan\n",
                        "        nan        nan        nan        nan        nan        nan\n",
                        " 0.73392857 0.79464286 0.625      0.73214286 0.72142857 0.7625\n",
                        " 0.79107143 0.75535714 0.81607143 0.75357143 0.80535714 0.84642857\n",
                        " 0.83214286 0.76785714 0.73392857 0.70892857 0.80178571 0.76071429\n",
                        "        nan        nan        nan        nan        nan        nan\n",
                        "        nan        nan        nan        nan        nan        nan\n",
                        "        nan        nan        nan        nan        nan        nan\n",
                        " 0.79464286 0.83214286 0.7625     0.84642857 0.73571429 0.83214286\n",
                        " 0.77857143 0.83214286 0.79107143 0.84642857 0.73571429 0.77678571\n",
                        " 0.83214286 0.77678571 0.79107143 0.7625     0.775      0.80892857\n",
                        "        nan        nan        nan        nan        nan        nan\n",
                        "        nan        nan        nan        nan        nan        nan\n",
                        "        nan        nan        nan        nan        nan        nan\n",
                        " 0.78035714 0.79285714 0.77857143 0.80357143 0.7625     0.82142857\n",
                        " 0.81964286 0.74821429 0.84642857 0.73392857 0.81964286 0.83214286\n",
                        " 0.775      0.83214286 0.81964286 0.76428571 0.71964286 0.80535714\n",
                        "        nan        nan        nan        nan        nan        nan\n",
                        "        nan        nan        nan        nan        nan        nan\n",
                        "        nan        nan        nan        nan        nan        nan\n",
                        " 0.80357143 0.83392857 0.80357143 0.80535714 0.77857143 0.80535714\n",
                        " 0.78035714 0.725      0.66607143 0.79107143 0.69642857 0.79285714\n",
                        " 0.79285714 0.77678571 0.72321429 0.75357143 0.81964286 0.72142857\n",
                        "        nan        nan        nan        nan        nan        nan\n",
                        "        nan        nan        nan        nan        nan        nan\n",
                        "        nan        nan        nan        nan        nan        nan\n",
                        " 0.75       0.77857143 0.69642857 0.77857143 0.70714286 0.79107143\n",
                        " 0.79642857 0.8625     0.68035714 0.78214286 0.84464286 0.80714286\n",
                        " 0.77678571 0.83392857 0.775      0.78214286 0.76071429 0.80714286\n",
                        "        nan        nan        nan        nan        nan        nan\n",
                        "        nan        nan        nan        nan        nan        nan\n",
                        "        nan        nan        nan        nan        nan        nan\n",
                        " 0.73392857 0.77857143 0.75535714 0.7375     0.70714286 0.81964286\n",
                        " 0.78035714 0.81785714 0.69285714 0.72142857 0.8625     0.86071429\n",
                        " 0.7625     0.83392857 0.70892857 0.80357143 0.84642857 0.73928571\n",
                        "        nan        nan        nan        nan        nan        nan\n",
                        "        nan        nan        nan        nan        nan        nan\n",
                        "        nan        nan        nan        nan        nan        nan\n",
                        " 0.77321429 0.80714286 0.70714286 0.77857143 0.80535714 0.81964286\n",
                        " 0.81964286 0.80535714 0.56964286 0.80535714 0.775      0.87678571\n",
                        " 0.79107143 0.75357143 0.775      0.84642857 0.79107143 0.81785714\n",
                        "        nan        nan        nan        nan        nan        nan\n",
                        "        nan        nan        nan        nan        nan        nan\n",
                        "        nan        nan        nan        nan        nan        nan\n",
                        " 0.84821429 0.79285714 0.80535714 0.80892857 0.79107143 0.80357143\n",
                        " 0.73571429 0.72142857 0.77678571 0.75178571 0.77857143 0.84642857\n",
                        " 0.71964286 0.77678571 0.74821429 0.73571429 0.77678571 0.74821429\n",
                        "        nan        nan        nan        nan        nan        nan\n",
                        "        nan        nan        nan        nan        nan        nan\n",
                        "        nan        nan        nan        nan        nan        nan\n",
                        " 0.68035714 0.70892857 0.79285714 0.76428571 0.7625     0.81964286\n",
                        " 0.80357143 0.78928571 0.67678571 0.80714286 0.79107143 0.80714286\n",
                        " 0.70357143 0.7375     0.79107143 0.81964286 0.78035714 0.76607143]\n",
                        "  warnings.warn(\n"
                    ]
                }
            ],
            "source": [
                "gridsearch_cv_tree = GridSearchCV(tree, parameters, scoring='accuracy', cv=10)\n",
                "tree_cv = gridsearch_cv_tree.fit(X_train, Y_train)"
            ]
        },
        {
            "cell_type": "code",
            "execution_count": 25,
            "metadata": {},
            "outputs": [
                {
                    "name": "stdout",
                    "output_type": "stream",
                    "text": [
                        "tuned hyperparameters :(best parameters)  {'criterion': 'gini', 'max_depth': 6, 'max_features': 'sqrt', 'min_samples_leaf': 1, 'min_samples_split': 5, 'splitter': 'best'}\n",
                        "accuracy : 0.8875\n"
                    ]
                }
            ],
            "source": [
                "print(\"tuned hyperparameters :(best parameters) \",tree_cv.best_params_)\n",
                "tree_best_score = tree_cv.best_score_\n",
                "print(\"accuracy :\",tree_best_score)"
            ]
        },
        {
            "cell_type": "markdown",
            "metadata": {},
            "source": [
                "## TASK  9\n"
            ]
        },
        {
            "cell_type": "markdown",
            "metadata": {},
            "source": [
                "Calculate the accuracy of tree_cv on the test data using the method <code>score</code>:\n"
            ]
        },
        {
            "cell_type": "code",
            "execution_count": 26,
            "metadata": {},
            "outputs": [],
            "source": [
                "tree_score = tree_cv.score(X_test, Y_test)"
            ]
        },
        {
            "cell_type": "code",
            "execution_count": 27,
            "metadata": {},
            "outputs": [
                {
                    "name": "stdout",
                    "output_type": "stream",
                    "text": [
                        "Decision Tree - Accuracy using method score: 0.7777777777777778\n"
                    ]
                }
            ],
            "source": [
                "print(f\"Decision Tree - Accuracy using method score: {tree_score}\")"
            ]
        },
        {
            "cell_type": "markdown",
            "metadata": {},
            "source": [
                "We can plot the confusion matrix\n"
            ]
        },
        {
            "cell_type": "code",
            "execution_count": 28,
            "metadata": {},
            "outputs": [
                {
                    "data": {
                        "image/png": "[encoded data removed]",
                        "text/plain": [
                            "<Figure size 640x480 with 2 Axes>"
                        ]
                    },
                    "metadata": {},
                    "output_type": "display_data"
                }
            ],
            "source": [
                "yhat = tree_cv.predict(X_test)\n",
                "plot_confusion_matrix(Y_test,yhat)"
            ]
        },
        {
            "cell_type": "markdown",
            "metadata": {},
            "source": [
                "## TASK  10\n"
            ]
        },
        {
            "cell_type": "markdown",
            "metadata": {},
            "source": [
                "Create a k nearest neighbors object then  create a  <code>GridSearchCV</code> object  <code>knn_cv</code> with cv = 10.  Fit the object to find the best parameters from the dictionary <code>parameters</code>.\n"
            ]
        },
        {
            "cell_type": "code",
            "execution_count": 29,
            "metadata": {},
            "outputs": [],
            "source": [
                "parameters = {'n_neighbors': [1, 2, 3, 4, 5, 6, 7, 8, 9, 10],\n",
                "              'algorithm': ['auto', 'ball_tree', 'kd_tree', 'brute'],\n",
                "              'p': [1,2]}\n",
                "\n",
                "KNN = KNeighborsClassifier()"
            ]
        },
        {
            "cell_type": "code",
            "execution_count": 30,
            "metadata": {},
            "outputs": [
                {
                    "name": "stderr",
                    "output_type": "stream",
                    "text": [
                        "c:\\Users\\ossam\\AppData\\Local\\Programs\\Python\\Python312\\Lib\\site-packages\\sklearn\\model_selection\\_validation.py:542: FitFailedWarning: \n",
                        "3240 fits failed out of a total of 6480.\n",
                        "The score on these train-test partitions for these parameters will be set to nan.\n",
                        "If these failures are not expected, you can try to debug them by setting error_score='raise'.\n",
                        "\n",
                        "Below are more details about the failures:\n",
                        "--------------------------------------------------------------------------------\n",
                        "3240 fits failed with the following error:\n",
                        "Traceback (most recent call last):\n",
                        "  File \"c:\\Users\\ossam\\AppData\\Local\\Programs\\Python\\Python312\\Lib\\site-packages\\sklearn\\model_selection\\_validation.py\", line 890, in _fit_and_score\n",
                        "    estimator.fit(X_train, y_train, **fit_params)\n",
                        "  File \"c:\\Users\\ossam\\AppData\\Local\\Programs\\Python\\Python312\\Lib\\site-packages\\sklearn\\base.py\", line 1344, in wrapper\n",
                        "    estimator._validate_params()\n",
                        "  File \"c:\\Users\\ossam\\AppData\\Local\\Programs\\Python\\Python312\\Lib\\site-packages\\sklearn\\base.py\", line 666, in _validate_params\n",
                        "    validate_parameter_constraints(\n",
                        "  File \"c:\\Users\\ossam\\AppData\\Local\\Programs\\Python\\Python312\\Lib\\site-packages\\sklearn\\utils\\_param_validation.py\", line 95, in validate_parameter_constraints\n",
                        "    raise InvalidParameterError(\n",
                        "sklearn.utils._param_validation.InvalidParameterError: The 'max_features' parameter of DecisionTreeClassifier must be an int in the range [1, inf), a float in the range (0.0, 1.0], a str among {'log2', 'sqrt'} or None. Got 'auto' instead.\n",
                        "\n",
                        "  warnings.warn(some_fits_failed_message, FitFailedWarning)\n",
                        "c:\\Users\\ossam\\AppData\\Local\\Programs\\Python\\Python312\\Lib\\site-packages\\sklearn\\model_selection\\_search.py:1051: UserWarning: One or more of the test scores are non-finite: [       nan        nan        nan        nan        nan        nan\n",
                        "        nan        nan        nan        nan        nan        nan\n",
                        "        nan        nan        nan        nan        nan        nan\n",
                        " 0.83035714 0.76428571 0.79107143 0.79107143 0.79107143 0.80535714\n",
                        " 0.73571429 0.84642857 0.73392857 0.81964286 0.80357143 0.7625\n",
                        " 0.7625     0.78928571 0.78928571 0.73928571 0.70535714 0.73928571\n",
                        "        nan        nan        nan        nan        nan        nan\n",
                        "        nan        nan        nan        nan        nan        nan\n",
                        "        nan        nan        nan        nan        nan        nan\n",
                        " 0.81785714 0.79107143 0.79107143 0.80535714 0.77678571 0.85\n",
                        " 0.78928571 0.80178571 0.81607143 0.83214286 0.77678571 0.77678571\n",
                        " 0.79107143 0.80714286 0.81607143 0.83035714 0.78928571 0.77678571\n",
                        "        nan        nan        nan        nan        nan        nan\n",
                        "        nan        nan        nan        nan        nan        nan\n",
                        "        nan        nan        nan        nan        nan        nan\n",
                        " 0.775      0.70535714 0.84464286 0.83214286 0.775      0.81785714\n",
                        " 0.80535714 0.78928571 0.75       0.79107143 0.80535714 0.7625\n",
                        " 0.76428571 0.79107143 0.81964286 0.7625     0.80357143 0.74821429\n",
                        "        nan        nan        nan        nan        nan        nan\n",
                        "        nan        nan        nan        nan        nan        nan\n",
                        "        nan        nan        nan        nan        nan        nan\n",
                        " 0.76428571 0.77857143 0.81964286 0.80535714 0.81964286 0.77857143\n",
                        " 0.72321429 0.81964286 0.72142857 0.75       0.77678571 0.86071429\n",
                        " 0.81964286 0.77678571 0.76607143 0.77678571 0.78214286 0.80357143\n",
                        "        nan        nan        nan        nan        nan        nan\n",
                        "        nan        nan        nan        nan        nan        nan\n",
                        "        nan        nan        nan        nan        nan        nan\n",
                        " 0.725      0.79107143 0.73571429 0.83392857 0.77857143 0.80535714\n",
                        " 0.77678571 0.80535714 0.71785714 0.79464286 0.75       0.77678571\n",
                        " 0.70892857 0.77857143 0.66785714 0.81785714 0.69642857 0.79107143\n",
                        "        nan        nan        nan        nan        nan        nan\n",
                        "        nan        nan        nan        nan        nan        nan\n",
                        "        nan        nan        nan        nan        nan        nan\n",
                        " 0.86071429 0.81785714 0.78035714 0.72321429 0.80357143 0.80535714\n",
                        " 0.76428571 0.79464286 0.74821429 0.72142857 0.87142857 0.75357143\n",
                        " 0.775      0.80357143 0.72142857 0.79107143 0.81785714 0.79107143\n",
                        "        nan        nan        nan        nan        nan        nan\n",
                        "        nan        nan        nan        nan        nan        nan\n",
                        "        nan        nan        nan        nan        nan        nan\n",
                        " 0.79107143 0.75       0.7625     0.72142857 0.80357143 0.82142857\n",
                        " 0.73928571 0.75       0.74821429 0.72321429 0.73214286 0.80714286\n",
                        " 0.77857143 0.76607143 0.79464286 0.73392857 0.78035714 0.78035714\n",
                        "        nan        nan        nan        nan        nan        nan\n",
                        "        nan        nan        nan        nan        nan        nan\n",
                        "        nan        nan        nan        nan        nan        nan\n",
                        " 0.73392857 0.76428571 0.81607143 0.76428571 0.80535714 0.77857143\n",
                        " 0.79107143 0.83035714 0.72142857 0.81785714 0.74642857 0.81964286\n",
                        " 0.80357143 0.78928571 0.70357143 0.7625     0.81964286 0.75357143\n",
                        "        nan        nan        nan        nan        nan        nan\n",
                        "        nan        nan        nan        nan        nan        nan\n",
                        "        nan        nan        nan        nan        nan        nan\n",
                        " 0.77678571 0.77857143 0.71071429 0.77678571 0.74821429 0.79464286\n",
                        " 0.79107143 0.78035714 0.72142857 0.77678571 0.69285714 0.74821429\n",
                        " 0.83214286 0.78928571 0.725      0.80535714 0.80357143 0.86071429\n",
                        "        nan        nan        nan        nan        nan        nan\n",
                        "        nan        nan        nan        nan        nan        nan\n",
                        "        nan        nan        nan        nan        nan        nan\n",
                        " 0.80535714 0.76964286 0.74642857 0.81964286 0.76071429 0.73392857\n",
                        " 0.76071429 0.76607143 0.79107143 0.7625     0.77857143 0.78214286\n",
                        " 0.79107143 0.7875     0.77678571 0.73392857 0.84642857 0.79464286\n",
                        "        nan        nan        nan        nan        nan        nan\n",
                        "        nan        nan        nan        nan        nan        nan\n",
                        "        nan        nan        nan        nan        nan        nan\n",
                        " 0.83392857 0.83214286 0.77678571 0.80357143 0.78928571 0.86071429\n",
                        " 0.79107143 0.76428571 0.80714286 0.84821429 0.85892857 0.81785714\n",
                        " 0.76428571 0.80535714 0.78928571 0.81785714 0.81785714 0.80535714\n",
                        "        nan        nan        nan        nan        nan        nan\n",
                        "        nan        nan        nan        nan        nan        nan\n",
                        "        nan        nan        nan        nan        nan        nan\n",
                        " 0.75       0.84821429 0.80892857 0.79107143 0.79107143 0.76607143\n",
                        " 0.77678571 0.775      0.80535714 0.77678571 0.80178571 0.83214286\n",
                        " 0.83214286 0.84821429 0.73571429 0.84642857 0.7625     0.86071429\n",
                        "        nan        nan        nan        nan        nan        nan\n",
                        "        nan        nan        nan        nan        nan        nan\n",
                        "        nan        nan        nan        nan        nan        nan\n",
                        " 0.775      0.81785714 0.74642857 0.76607143 0.78928571 0.84821429\n",
                        " 0.81428571 0.7625     0.77678571 0.79107143 0.775      0.81785714\n",
                        " 0.79642857 0.80535714 0.77678571 0.80714286 0.74821429 0.78035714\n",
                        "        nan        nan        nan        nan        nan        nan\n",
                        "        nan        nan        nan        nan        nan        nan\n",
                        "        nan        nan        nan        nan        nan        nan\n",
                        " 0.79285714 0.80535714 0.81785714 0.79464286 0.81785714 0.81964286\n",
                        " 0.6125     0.80535714 0.7625     0.775      0.775      0.725\n",
                        " 0.73392857 0.7625     0.77678571 0.81785714 0.74821429 0.81785714\n",
                        "        nan        nan        nan        nan        nan        nan\n",
                        "        nan        nan        nan        nan        nan        nan\n",
                        "        nan        nan        nan        nan        nan        nan\n",
                        " 0.77678571 0.80714286 0.77678571 0.7625     0.68214286 0.74821429\n",
                        " 0.7375     0.77678571 0.81607143 0.80178571 0.80357143 0.79107143\n",
                        " 0.80535714 0.74821429 0.7625     0.77321429 0.79107143 0.7375\n",
                        "        nan        nan        nan        nan        nan        nan\n",
                        "        nan        nan        nan        nan        nan        nan\n",
                        "        nan        nan        nan        nan        nan        nan\n",
                        " 0.81071429 0.76428571 0.77678571 0.75       0.73571429 0.79107143\n",
                        " 0.75178571 0.72321429 0.74821429 0.73214286 0.80714286 0.80714286\n",
                        " 0.76607143 0.80714286 0.71964286 0.80714286 0.81964286 0.73392857\n",
                        "        nan        nan        nan        nan        nan        nan\n",
                        "        nan        nan        nan        nan        nan        nan\n",
                        "        nan        nan        nan        nan        nan        nan\n",
                        " 0.71964286 0.77857143 0.76607143 0.76607143 0.79107143 0.7625\n",
                        " 0.70892857 0.78928571 0.72142857 0.84821429 0.79107143 0.7125\n",
                        " 0.75357143 0.78214286 0.79107143 0.75178571 0.72142857 0.78928571\n",
                        "        nan        nan        nan        nan        nan        nan\n",
                        "        nan        nan        nan        nan        nan        nan\n",
                        "        nan        nan        nan        nan        nan        nan\n",
                        " 0.77678571 0.75178571 0.73571429 0.75       0.80178571 0.80535714\n",
                        " 0.83392857 0.725      0.74821429 0.78928571 0.76071429 0.80357143\n",
                        " 0.71071429 0.78571429 0.77678571 0.83392857 0.77678571 0.76607143]\n",
                        "  warnings.warn(\n"
                    ]
                }
            ],
            "source": [
                "gridsearch_cv_knn = GridSearchCV(KNN, parameters, scoring='accuracy', cv=10)\n",
                "knn_cv = gridsearch_cv_tree.fit(X_train, Y_train)"
            ]
        },
        {
            "cell_type": "code",
            "execution_count": 31,
            "metadata": {},
            "outputs": [
                {
                    "name": "stdout",
                    "output_type": "stream",
                    "text": [
                        "tuned hyperparameters :(best parameters)  {'criterion': 'gini', 'max_depth': 12, 'max_features': 'sqrt', 'min_samples_leaf': 2, 'min_samples_split': 10, 'splitter': 'best'}\n",
                        "accuracy : 0.8714285714285716\n"
                    ]
                }
            ],
            "source": [
                "print(\"tuned hyperparameters :(best parameters) \",knn_cv.best_params_)\n",
                "knn_best_score = knn_cv.best_score_\n",
                "print(\"accuracy :\",knn_best_score)"
            ]
        },
        {
            "cell_type": "markdown",
            "metadata": {},
            "source": [
                "## TASK  11\n"
            ]
        },
        {
            "cell_type": "markdown",
            "metadata": {},
            "source": [
                "Calculate the accuracy of tree_cv on the test data using the method <code>score</code>:\n"
            ]
        },
        {
            "cell_type": "code",
            "execution_count": 32,
            "metadata": {},
            "outputs": [],
            "source": [
                "knn_score = knn_cv.score(X_test, Y_test)"
            ]
        },
        {
            "cell_type": "code",
            "execution_count": 33,
            "metadata": {},
            "outputs": [
                {
                    "name": "stdout",
                    "output_type": "stream",
                    "text": [
                        "KNN - Accuracy using method score: 0.8333333333333334\n"
                    ]
                }
            ],
            "source": [
                "print(f\"KNN - Accuracy using method score: {knn_score}\")"
            ]
        },
        {
            "cell_type": "markdown",
            "metadata": {},
            "source": [
                "We can plot the confusion matrix\n"
            ]
        },
        {
            "cell_type": "code",
            "execution_count": 34,
            "metadata": {},
            "outputs": [
                {
                    "data": {
                        "image/png": "[encoded data removed]",
                        "text/plain": [
                            "<Figure size 640x480 with 2 Axes>"
                        ]
                    },
                    "metadata": {},
                    "output_type": "display_data"
                }
            ],
            "source": [
                "yhat = knn_cv.predict(X_test)\n",
                "plot_confusion_matrix(Y_test,yhat)"
            ]
        },
        {
            "cell_type": "markdown",
            "metadata": {},
            "source": [
                "## TASK  12\n"
            ]
        },
        {
            "cell_type": "markdown",
            "metadata": {},
            "source": [
                "Find the method performs best:\n"
            ]
        },
        {
            "cell_type": "code",
            "execution_count": 35,
            "metadata": {},
            "outputs": [],
            "source": [
                "algorithms = ['Logistic Regression', 'Support Vector Machine', 'Decision Tree', 'K Nearest Neighbours']\n",
                "\n",
                "scores = [lr_score, svm_score, tree_score, knn_score]\n",
                "\n",
                "best_scores = [lr_best_score, svm_best_score, tree_best_score, knn_best_score]\n",
                "\n",
                "column_names = ['Algorithm', 'Accuracy Score', 'Best Score']"
            ]
        },
        {
            "cell_type": "code",
            "execution_count": 36,
            "metadata": {},
            "outputs": [],
            "source": [
                "df = pd.DataFrame(list(zip(algorithms, scores, best_scores)),columns = column_names)"
            ]
        },
        {
            "cell_type": "code",
            "execution_count": 37,
            "metadata": {},
            "outputs": [
                {
                    "data": {
                        "text/html": [
                            "<div>\n",
                            "<style scoped>\n",
                            "    .dataframe tbody tr th:only-of-type {\n",
                            "        vertical-align: middle;\n",
                            "    }\n",
                            "\n",
                            "    .dataframe tbody tr th {\n",
                            "        vertical-align: top;\n",
                            "    }\n",
                            "\n",
                            "    .dataframe thead th {\n",
                            "        text-align: right;\n",
                            "    }\n",
                            "</style>\n",
                            "<table border=\"1\" class=\"dataframe\">\n",
                            "  <thead>\n",
                            "    <tr style=\"text-align: right;\">\n",
                            "      <th></th>\n",
                            "      <th>Algorithm</th>\n",
                            "      <th>Accuracy Score</th>\n",
                            "      <th>Best Score</th>\n",
                            "    </tr>\n",
                            "  </thead>\n",
                            "  <tbody>\n",
                            "    <tr>\n",
                            "      <th>0</th>\n",
                            "      <td>Logistic Regression</td>\n",
                            "      <td>0.833333</td>\n",
                            "      <td>0.846429</td>\n",
                            "    </tr>\n",
                            "    <tr>\n",
                            "      <th>1</th>\n",
                            "      <td>Support Vector Machine</td>\n",
                            "      <td>0.833333</td>\n",
                            "      <td>0.848214</td>\n",
                            "    </tr>\n",
                            "    <tr>\n",
                            "      <th>2</th>\n",
                            "      <td>Decision Tree</td>\n",
                            "      <td>0.777778</td>\n",
                            "      <td>0.887500</td>\n",
                            "    </tr>\n",
                            "    <tr>\n",
                            "      <th>3</th>\n",
                            "      <td>K Nearest Neighbours</td>\n",
                            "      <td>0.833333</td>\n",
                            "      <td>0.871429</td>\n",
                            "    </tr>\n",
                            "  </tbody>\n",
                            "</table>\n",
                            "</div>"
                        ],
                        "text/plain": [
                            "                Algorithm  Accuracy Score  Best Score\n",
                            "0     Logistic Regression        0.833333    0.846429\n",
                            "1  Support Vector Machine        0.833333    0.848214\n",
                            "2           Decision Tree        0.777778    0.887500\n",
                            "3    K Nearest Neighbours        0.833333    0.871429"
                        ]
                    },
                    "execution_count": 37,
                    "metadata": {},
                    "output_type": "execute_result"
                }
            ],
            "source": [
                "df"
            ]
        },
        {
            "cell_type": "code",
            "execution_count": 38,
            "metadata": {},
            "outputs": [
                {
                    "name": "stderr",
                    "output_type": "stream",
                    "text": [
                        "C:\\Users\\ossam\\AppData\\Local\\Temp\\ipykernel_22472\\1237894177.py:4: FutureWarning: \n",
                        "\n",
                        "Passing `palette` without assigning `hue` is deprecated and will be removed in v0.14.0. Assign the `x` variable to `hue` and set `legend=False` for the same effect.\n",
                        "\n",
                        "  sns.barplot(x=algorithms, y=best_scores, palette=\"Blues\")\n"
                    ]
                },
                {
                    "data": {
                        "image/png": "[encoded data removed]",
                        "text/plain": [
                            "<Figure size 1500x800 with 1 Axes>"
                        ]
                    },
                    "metadata": {},
                    "output_type": "display_data"
                }
            ],
            "source": [
                "sns.set(style=\"whitegrid\")\n",
                "\n",
                "plt.figure(figsize=(15,8))\n",
                "sns.barplot(x=algorithms, y=best_scores, palette=\"Blues\")\n",
                "plt.title(\"Determining the Best Performing Classification Algorithm\")\n",
                "plt.ylabel(\"Best Score\")\n",
                "plt.show()"
            ]
        },
        {
            "cell_type": "code",
            "execution_count": 39,
            "metadata": {},
            "outputs": [
                {
                    "name": "stderr",
                    "output_type": "stream",
                    "text": [
                        "C:\\Users\\ossam\\AppData\\Local\\Temp\\ipykernel_22472\\1376703738.py:2: FutureWarning: \n",
                        "\n",
                        "Passing `palette` without assigning `hue` is deprecated and will be removed in v0.14.0. Assign the `x` variable to `hue` and set `legend=False` for the same effect.\n",
                        "\n",
                        "  sns.barplot(x=algorithms, y=scores, palette=\"Blues\")\n"
                    ]
                },
                {
                    "data": {
                        "image/png": "[encoded data removed]",
                        "text/plain": [
                            "<Figure size 1500x800 with 1 Axes>"
                        ]
                    },
                    "metadata": {},
                    "output_type": "display_data"
                }
            ],
            "source": [
                "plt.figure(figsize=(15,8))\n",
                "sns.barplot(x=algorithms, y=scores, palette=\"Blues\")\n",
                "plt.title(\"Determining the Best Performing Classification Algorithm\")\n",
                "plt.ylabel(\"Accuracy Score\")\n",
                "plt.show()"
            ]
        },
        {
            "cell_type": "markdown",
            "metadata": {},
            "source": [
                "## Authors\n"
            ]
        },
        {
            "cell_type": "markdown",
            "metadata": {},
            "source": [
                "<a href=\"https://www.linkedin.com/in/joseph-s-50398b136/?utm_medium=Exinfluencer&utm_source=Exinfluencer&utm_content=000026UJ&utm_term=10006555&utm_id=NA-SkillsNetwork-Channel-SkillsNetworkCoursesIBMDS0321ENSkillsNetwork26802033-2021-01-01\">Joseph Santarcangelo</a> has a PhD in Electrical Engineering, his research focused on using machine learning, signal processing, and computer vision to determine how videos impact human cognition. Joseph has been working for IBM since he completed his PhD.\n"
            ]
        },
        {
            "cell_type": "markdown",
            "metadata": {},
            "source": [
                "## Change Log\n"
            ]
        },
        {
            "cell_type": "markdown",
            "metadata": {},
            "source": [
                "| Date (YYYY-MM-DD) | Version | Changed By    | Change Description      |\n",
                "| ----------------- | ------- | ------------- | ----------------------- |\n",
                "| 2021-08-31        | 1.1     | Lakshmi Holla | Modified markdown       |\n",
                "| 2020-09-20        | 1.0     | Joseph        | Modified Multiple Areas |\n"
            ]
        },
        {
            "cell_type": "markdown",
            "metadata": {},
            "source": [
                "Copyright © 2020 IBM Corporation. All rights reserved.\n"
            ]
        }
    ],
    "metadata": {
        "kernelspec": {
            "display_name": "Python 3.8",
            "language": "python",
            "name": "python3"
        },
        "language_info": {
            "codemirror_mode": {
                "name": "ipython",
                "version": 3
            },
            "file_extension": ".py",
            "mimetype": "text/x-python",
            "name": "python",
            "nbconvert_exporter": "python",
            "pygments_lexer": "ipython3",
            "version": "3.12.1"
        }
    },
    "nbformat": 4,
    "nbformat_minor": 4
}
